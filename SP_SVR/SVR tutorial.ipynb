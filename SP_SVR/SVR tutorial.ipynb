{
 "cells": [
  {
   "cell_type": "code",
   "execution_count": 1,
   "metadata": {
    "collapsed": false
   },
   "outputs": [
    {
     "data": {
      "image/png": "[encoded data removed]",
      "text/plain": [
       "<matplotlib.figure.Figure at 0x108bd6278>"
      ]
     },
     "metadata": {},
     "output_type": "display_data"
    }
   ],
   "source": [
    "import numpy as np\n",
    "from sklearn.svm import SVR\n",
    "import matplotlib.pyplot as plt\n",
    "%matplotlib inline\n",
    "\n",
    "###############################################################################\n",
    "# Generate sample data\n",
    "X = np.sort(5 * np.random.rand(40, 1), axis=0)\n",
    "y = np.sin(X).ravel()\n",
    "\n",
    "###############################################################################\n",
    "# Add noise to targets\n",
    "y[::5] += 3 * (0.5 - np.random.rand(8))\n",
    "\n",
    "###############################################################################\n",
    "# Fit regression model\n",
    "svr_rbf = SVR(kernel='rbf', C=1e3, gamma=0.1)\n",
    "svr_lin = SVR(kernel='linear', C=1e3)\n",
    "svr_poly = SVR(kernel='poly', C=1e3, degree=2)\n",
    "y_rbf = svr_rbf.fit(X, y).predict(X)\n",
    "y_lin = svr_lin.fit(X, y).predict(X)\n",
    "y_poly = svr_poly.fit(X, y).predict(X)\n",
    "\n",
    "###############################################################################\n",
    "# look at the results\n",
    "plt.scatter(X, y, c='k', label='data')\n",
    "plt.hold('on')\n",
    "plt.plot(X, y_rbf, c='g', label='RBF model')\n",
    "plt.plot(X, y_lin, c='r', label='Linear model')\n",
    "plt.plot(X, y_poly, c='b', label='Polynomial model')\n",
    "plt.xlabel('data')\n",
    "plt.ylabel('target')\n",
    "plt.title('Support Vector Regression')\n",
    "plt.legend()\n",
    "plt.show()\n"
   ]
  },
  {
   "cell_type": "code",
   "execution_count": 2,
   "metadata": {
    "collapsed": false
   },
   "outputs": [
    {
     "data": {
      "text/plain": [
       "array([[ 0.04016497],\n",
       "       [ 0.09335673],\n",
       "       [ 0.12715355],\n",
       "       [ 0.41626435],\n",
       "       [ 0.54017084],\n",
       "       [ 0.61137877],\n",
       "       [ 0.6876265 ],\n",
       "       [ 0.73353439],\n",
       "       [ 0.8408877 ],\n",
       "       [ 0.8863313 ],\n",
       "       [ 0.98962356],\n",
       "       [ 1.0617371 ],\n",
       "       [ 1.12545141],\n",
       "       [ 1.12734061],\n",
       "       [ 1.21664809],\n",
       "       [ 1.26347312],\n",
       "       [ 1.51725495],\n",
       "       [ 1.91763225],\n",
       "       [ 1.93055982],\n",
       "       [ 1.94193801],\n",
       "       [ 2.07015428],\n",
       "       [ 2.50850137],\n",
       "       [ 2.5764896 ],\n",
       "       [ 2.82210213],\n",
       "       [ 2.88486992],\n",
       "       [ 2.89257484],\n",
       "       [ 2.90605539],\n",
       "       [ 3.07530501],\n",
       "       [ 3.3119279 ],\n",
       "       [ 3.40520194],\n",
       "       [ 3.42896675],\n",
       "       [ 3.55521538],\n",
       "       [ 3.68100104],\n",
       "       [ 3.75165838],\n",
       "       [ 4.27630216],\n",
       "       [ 4.36838212],\n",
       "       [ 4.37943473],\n",
       "       [ 4.41556298],\n",
       "       [ 4.5824091 ],\n",
       "       [ 4.63917921]])"
      ]
     },
     "execution_count": 2,
     "metadata": {},
     "output_type": "execute_result"
    }
   ],
   "source": [
    "X"
   ]
  },
  {
   "cell_type": "code",
   "execution_count": 3,
   "metadata": {
    "collapsed": false
   },
   "outputs": [
    {
     "data": {
      "text/plain": [
       "array([ 0.81825729,  0.09322118,  0.12681119,  0.40434663,  0.51428251,\n",
       "        0.22658031,  0.63470484,  0.6694992 ,  0.74523533,  0.7747574 ,\n",
       "        1.11379685,  0.87320339,  0.90246214,  0.90327434,  0.93794221,\n",
       "        1.38084254,  0.998567  ,  0.94045296,  0.93598011,  0.93191389,\n",
       "        0.64846697,  0.59163978,  0.53550285,  0.3140829 ,  0.25391206,\n",
       "        1.55674274,  0.23336545,  0.06623911, -0.16951275, -0.26056685,\n",
       "        0.09016296, -0.40192919, -0.51362847, -0.57292133, -0.90641151,\n",
       "        0.33070597, -0.94508091, -0.95626966, -0.9915645 , -0.99732136])"
      ]
     },
     "execution_count": 3,
     "metadata": {},
     "output_type": "execute_result"
    }
   ],
   "source": [
    "y"
   ]
  },
  {
   "cell_type": "code",
   "execution_count": 4,
   "metadata": {
    "collapsed": false
   },
   "outputs": [
    {
     "ename": "NameError",
     "evalue": "name 'y_tmp' is not defined",
     "output_type": "error",
     "traceback": [
      "\u001b[0;31m---------------------------------------------------------------------------\u001b[0m",
      "\u001b[0;31mNameError\u001b[0m                                 Traceback (most recent call last)",
      "\u001b[0;32m<ipython-input-4-de30f3b99019>\u001b[0m in \u001b[0;36m<module>\u001b[0;34m()\u001b[0m\n\u001b[0;32m----> 1\u001b[0;31m \u001b[0mx\u001b[0m \u001b[0;34m=\u001b[0m \u001b[0mnp\u001b[0m\u001b[0;34m.\u001b[0m\u001b[0marray\u001b[0m\u001b[0;34m(\u001b[0m\u001b[0mshape\u001b[0m\u001b[0;34m=\u001b[0m\u001b[0;34m(\u001b[0m\u001b[0mrange\u001b[0m\u001b[0;34m(\u001b[0m\u001b[0mlen\u001b[0m\u001b[0;34m(\u001b[0m\u001b[0my_tmp\u001b[0m\u001b[0;34m)\u001b[0m\u001b[0;34m)\u001b[0m\u001b[0;34m,\u001b[0m\u001b[0;36m1\u001b[0m\u001b[0;34m)\u001b[0m\u001b[0;34m,\u001b[0m \u001b[0mdtype\u001b[0m\u001b[0;34m=\u001b[0m\u001b[0;34m'float32'\u001b[0m\u001b[0;34m)\u001b[0m\u001b[0;34m\u001b[0m\u001b[0m\n\u001b[0m",
      "\u001b[0;31mNameError\u001b[0m: name 'y_tmp' is not defined"
     ]
    }
   ],
   "source": [
    "x = np.array(shape=(,1), dtype='float32')"
   ]
  },
  {
   "cell_type": "code",
   "execution_count": null,
   "metadata": {
    "collapsed": true
   },
   "outputs": [],
   "source": [
    "x = np.array(shape=(len(y_tmp),1), dtype='float32')\n",
    "\n"
   ]
  }
 ],
 "metadata": {
  "kernelspec": {
   "display_name": "Python 3",
   "language": "python",
   "name": "python3"
  },
  "language_info": {
   "codemirror_mode": {
    "name": "ipython",
    "version": 3
   },
   "file_extension": ".py",
   "mimetype": "text/x-python",
   "name": "python",
   "nbconvert_exporter": "python",
   "pygments_lexer": "ipython3",
   "version": "3.5.1"
  }
 },
 "nbformat": 4,
 "nbformat_minor": 0
}
